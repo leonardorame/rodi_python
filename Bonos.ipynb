{
 "cells": [
  {
   "cell_type": "code",
   "execution_count": 25,
   "metadata": {},
   "outputs": [
    {
     "name": "stdout",
     "output_type": "stream",
     "text": [
      "AF20: 3600.0\n",
      "AY24: 2880.0\n",
      "AO20: 3380.0\n",
      "AY24/AO20: 0.852071005917\n",
      "7029.58579882\n"
     ]
    },
    {
     "ename": "TypeError",
     "evalue": "'NoneType' object has no attribute '__getitem__'",
     "output_type": "error",
     "traceback": [
      "\u001b[0;31m---------------------------------------------------------------------------\u001b[0m",
      "\u001b[0;31mTypeError\u001b[0m                                 Traceback (most recent call last)",
      "\u001b[0;32m<ipython-input-25-88cc06eaf4d8>\u001b[0m in \u001b[0;36m<module>\u001b[0;34m()\u001b[0m\n\u001b[1;32m      7\u001b[0m     \u001b[0;31m#print(d)\u001b[0m\u001b[0;34m\u001b[0m\u001b[0;34m\u001b[0m\u001b[0m\n\u001b[1;32m      8\u001b[0m     \u001b[0;31m# Vencimiento 1: CI, 3: 48hs\u001b[0m\u001b[0;34m\u001b[0m\u001b[0;34m\u001b[0m\u001b[0m\n\u001b[0;32m----> 9\u001b[0;31m     \u001b[0maf20_ci\u001b[0m\u001b[0;34m=\u001b[0m\u001b[0mgetRealtimeData\u001b[0m\u001b[0;34m(\u001b[0m\u001b[0md\u001b[0m\u001b[0;34m[\u001b[0m\u001b[0;34m'd'\u001b[0m\u001b[0;34m]\u001b[0m\u001b[0;34m[\u001b[0m\u001b[0;34m'aTabla'\u001b[0m\u001b[0;34m]\u001b[0m\u001b[0;34m,\u001b[0m \u001b[0;34m\"AF20\"\u001b[0m\u001b[0;34m,\u001b[0m \u001b[0;36m1\u001b[0m\u001b[0;34m)\u001b[0m\u001b[0;34m[\u001b[0m\u001b[0;34m\"PrecioUltimo\"\u001b[0m\u001b[0;34m]\u001b[0m\u001b[0;34m\u001b[0m\u001b[0m\n\u001b[0m\u001b[1;32m     10\u001b[0m     \u001b[0maf20_48\u001b[0m\u001b[0;34m=\u001b[0m\u001b[0mgetRealtimeData\u001b[0m\u001b[0;34m(\u001b[0m\u001b[0md\u001b[0m\u001b[0;34m[\u001b[0m\u001b[0;34m'd'\u001b[0m\u001b[0;34m]\u001b[0m\u001b[0;34m[\u001b[0m\u001b[0;34m'aTabla'\u001b[0m\u001b[0;34m]\u001b[0m\u001b[0;34m,\u001b[0m \u001b[0;34m\"AF20\"\u001b[0m\u001b[0;34m,\u001b[0m \u001b[0;36m3\u001b[0m\u001b[0;34m)\u001b[0m\u001b[0;34m[\u001b[0m\u001b[0;34m\"PrecioUltimo\"\u001b[0m\u001b[0;34m]\u001b[0m\u001b[0;34m\u001b[0m\u001b[0m\n\u001b[1;32m     11\u001b[0m     \u001b[0may24_ci\u001b[0m\u001b[0;34m=\u001b[0m\u001b[0mgetRealtimeData\u001b[0m\u001b[0;34m(\u001b[0m\u001b[0md\u001b[0m\u001b[0;34m[\u001b[0m\u001b[0;34m'd'\u001b[0m\u001b[0;34m]\u001b[0m\u001b[0;34m[\u001b[0m\u001b[0;34m'aTabla'\u001b[0m\u001b[0;34m]\u001b[0m\u001b[0;34m,\u001b[0m \u001b[0;34m\"AY24\"\u001b[0m\u001b[0;34m,\u001b[0m \u001b[0;36m1\u001b[0m\u001b[0;34m)\u001b[0m\u001b[0;34m[\u001b[0m\u001b[0;34m\"PrecioUltimo\"\u001b[0m\u001b[0;34m]\u001b[0m\u001b[0;34m\u001b[0m\u001b[0m\n",
      "\u001b[0;31mTypeError\u001b[0m: 'NoneType' object has no attribute '__getitem__'"
     ]
    }
   ],
   "source": [
    "%run 'funciones.ipynb'\n",
    "import time\n",
    "from IPython.display import clear_output, display\n",
    "login_rodi(\"leonardorame\", \"Diana2211!\")\n",
    "while True:\n",
    "    d=datapack()\n",
    "    #print(d)\n",
    "    # Vencimiento 1: CI, 3: 48hs\n",
    "    af20_ci=getRealtimeData(d['d']['aTabla'], \"AF20\", 1)[\"PrecioUltimo\"]\n",
    "    af20_48=getRealtimeData(d['d']['aTabla'], \"AF20\", 3)[\"PrecioUltimo\"]    \n",
    "    ay24_ci=getRealtimeData(d['d']['aTabla'], \"AY24\", 1)[\"PrecioUltimo\"]\n",
    "    ay24_48=getRealtimeData(d['d']['aTabla'], \"AY24\", 3)[\"PrecioUltimo\"]\n",
    "    #ao20_ci=getRealtimeData(d['d']['aTabla'], \"AO20\", 1)[\"PrecioUltimo\"]\n",
    "    ao20_48=getRealtimeData(d['d']['aTabla'], \"AO20\", 3)[\"PrecioUltimo\"]    \n",
    "    clear_output(wait=True)\n",
    "    print(\"AF20: \" + str(af20_48))    \n",
    "    print(\"AY24: \" + str(ay24_48))\n",
    "    print(\"AO20: \" + str(ao20_48))\n",
    "    print(\"AY24/AO20: \" + str(ay24_48/ao20_48))\n",
    "    print(8250*ay24_48/100/ao20_48*100)\n",
    "    # debajo de 0.90 me conviene vender el AO20 y comprar AY24\n",
    "    # arriba de 0.90 me conviene vender el AY24 y comprar AO20\n",
    "    time.sleep(5)"
   ]
  }
 ],
 "metadata": {
  "kernelspec": {
   "display_name": "Python 3",
   "language": "python",
   "name": "python3"
  },
  "language_info": {
   "codemirror_mode": {
    "name": "ipython",
    "version": 2
   },
   "file_extension": ".py",
   "mimetype": "text/x-python",
   "name": "python",
   "nbconvert_exporter": "python",
   "pygments_lexer": "ipython2",
   "version": "2.7.12"
  }
 },
 "nbformat": 4,
 "nbformat_minor": 4
}
